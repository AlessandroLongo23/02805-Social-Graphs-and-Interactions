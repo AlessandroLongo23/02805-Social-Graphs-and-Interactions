{
 "cells": [
  {
   "cell_type": "code",
   "execution_count": null,
   "id": "8ffa4c86",
   "metadata": {},
   "outputs": [],
   "source": [
    "import urllib.request\n",
    "\n",
    "baseurl = \"https://en.wikipedia.org/w/api.php?\"\n",
    "action = \"action=query\"\n",
    "title = \"titles=Rembrandt\"\n",
    "content = \"prop=revisions&rvprop=content\"\n",
    "dataformat = \"format=json\"\n",
    "\n",
    "query = \"{}{}&{}&{}&{}\".format(baseurl, action, content, title, dataformat)\n",
    "print(query)"
   ]
  },
  {
   "cell_type": "code",
   "execution_count": null,
   "id": "8dcfc82b",
   "metadata": {},
   "outputs": [],
   "source": [
    "headers = {\n",
    "    'User-Agent': '02805 Social Graphs and Interactions (longoa02@gmail.com) Python/3.x'\n",
    "}\n",
    "req = urllib.request.Request(query, headers=headers)\n",
    "wikiresponse = urllib.request.urlopen(req)\n",
    "wikidata = wikiresponse.read()\n",
    "wikitext = wikidata.decode(\"utf-8\")"
   ]
  },
  {
   "cell_type": "code",
   "execution_count": null,
   "id": "485fcfca",
   "metadata": {},
   "outputs": [],
   "source": [
    "import json\n",
    "json.loads(wikitext)"
   ]
  }
 ],
 "metadata": {
  "kernelspec": {
   "display_name": "Python 3",
   "language": "python",
   "name": "python3"
  },
  "language_info": {
   "codemirror_mode": {
    "name": "ipython",
    "version": 3
   },
   "file_extension": ".py",
   "mimetype": "text/x-python",
   "name": "python",
   "nbconvert_exporter": "python",
   "pygments_lexer": "ipython3",
   "version": "3.13.1"
  }
 },
 "nbformat": 4,
 "nbformat_minor": 5
}
